{
  "nbformat": 4,
  "nbformat_minor": 0,
  "metadata": {
    "colab": {
      "provenance": [],
      "mount_file_id": "18pSCsleDVyE2jCZfU_sbmixogQFMysl5",
      "authorship_tag": "ABX9TyPSXhK4ue5PzU/eeluZr96O",
      "include_colab_link": true
    },
    "kernelspec": {
      "name": "python3",
      "display_name": "Python 3"
    },
    "language_info": {
      "name": "python"
    }
  },
  "cells": [
    {
      "cell_type": "markdown",
      "metadata": {
        "id": "view-in-github",
        "colab_type": "text"
      },
      "source": [
        "<a href=\"https://colab.research.google.com/github/Harshabobbiti626/Computational-Statistics-Techniques/blob/main/Principal_Component_Analysis_.ipynb\" target=\"_parent\"><img src=\"https://colab.research.google.com/assets/colab-badge.svg\" alt=\"Open In Colab\"/></a>"
      ]
    },
    {
      "cell_type": "markdown",
      "source": [
        "#Principal Component Analysis (PCA)"
      ],
      "metadata": {
        "id": "t2Gnshiiw2XI"
      }
    },
    {
      "cell_type": "markdown",
      "source": [
        "Principal component analysis is a statistical procedure that helps to reduce the number of variables in a data set by breaking them down into smaller, more manageable parts. Each of the components is chosen based on its importance and its ability to explain most of the variation in the data. All of the components are orthogonal to each other, meaning that they don't affect each other's ability to explain the data. The first component, which has the highest variance, is chosen as the main component.\n",
        "\n",
        "\n",
        "\n",
        "**Uses:**\n",
        "\n",
        "The correlation coefficient is a way of measuring how closely two sets of data are related.\n",
        "\n",
        "It helps to interpret and visualize data. The number of variables is decreasing it makes further analysis simpler.\n",
        "\n",
        "It can be used to visualize genetic distance and relatedness between populations.\n",
        "\n",
        "**Objectives:**\n",
        "\n",
        "PCA is a way of reducing the number of variables in a data set. It does this by selecting a subset of variables that have the highest correlation with the principal amount. It is a dimension reduction process."
      ],
      "metadata": {
        "id": "FWxi4EXJw9sK"
      }
    },
    {
      "cell_type": "markdown",
      "source": [
        "**STEPS INVOLVED IN PERFORMING PCA**\n",
        "\n",
        "-Importing the libraries.\n",
        "\n",
        "-Importing the data set.\n",
        "\n",
        "-Splitting the dataset into the Training set and Test set.\n",
        "\n",
        "-Feature Scaling.\n",
        "\n",
        "-Applying PCA function.\n",
        "\n",
        "-Fitting Logistic Regression To the training set.\n",
        "\n",
        "-Predicting the test set result.\n",
        "\n",
        "-Making the confusion matrix.\n",
        "\n",
        "-Predicting the training set result.\n",
        "\n",
        "-Visualizing the Test set results.\n",
        "\n",
        "\n",
        "\n",
        "\n"
      ],
      "metadata": {
        "id": "ZrOqbDoVzHpY"
      }
    },
    {
      "cell_type": "code",
      "execution_count": 1,
      "metadata": {
        "id": "Qz1IVqCkwvCB"
      },
      "outputs": [],
      "source": [
        "# importing libraries\n",
        "import numpy as np\n",
        "import matplotlib.pyplot as plt\n",
        "import pandas as pd"
      ]
    },
    {
      "cell_type": "code",
      "source": [
        "# loading the dataset\n",
        "dataset = pd.read_csv('/content/drive/MyDrive/Colab Notebooks/Computational Statistics datasets/Wine.csv')\n",
        "\n",
        "X = dataset.iloc[:, 0:13].values\n",
        "y = dataset.iloc[:, 13].values"
      ],
      "metadata": {
        "id": "RgKWts5xxP8y"
      },
      "execution_count": 2,
      "outputs": []
    },
    {
      "cell_type": "code",
      "source": [
        "# Splitting the X and Y into the training and testing set\n",
        "from sklearn.model_selection import train_test_split\n",
        "\n",
        "X_train, X_test, y_train, y_test = train_test_split(X, y, test_size = 0.2, random_state = 0)\n"
      ],
      "metadata": {
        "id": "xdb7XWilxmSS"
      },
      "execution_count": 6,
      "outputs": []
    },
    {
      "cell_type": "code",
      "source": [
        "# preprocessing part\n",
        "from sklearn.preprocessing import StandardScaler\n",
        "sc = StandardScaler()\n",
        "\n",
        "X_train = sc.fit_transform(X_train)\n",
        "X_test = sc.transform(X_test)\n"
      ],
      "metadata": {
        "id": "I1gV7bHWx0dP"
      },
      "execution_count": 7,
      "outputs": []
    },
    {
      "cell_type": "code",
      "source": [
        "# Applying PCA function on training and testing set of X component\n",
        "from sklearn.decomposition import PCA\n",
        "\n",
        "pca = PCA(n_components = 2)\n",
        "\n",
        "X_train = pca.fit_transform(X_train)\n",
        "X_test = pca.transform(X_test)\n",
        "\n",
        "explained_variance = pca.explained_variance_ratio_\n"
      ],
      "metadata": {
        "id": "eCWs_nW7x6IB"
      },
      "execution_count": 8,
      "outputs": []
    },
    {
      "cell_type": "code",
      "source": [
        "# Fitting Logistic Regression To the training set\n",
        "from sklearn.linear_model import LogisticRegression\n",
        "\n",
        "classifier = LogisticRegression(random_state = 0)\n",
        "classifier.fit(X_train, y_train)\n"
      ],
      "metadata": {
        "colab": {
          "base_uri": "https://localhost:8080/"
        },
        "id": "QL8bq6dox_bA",
        "outputId": "b5b5cc27-4ce7-4b4b-c0e1-8f27ed22e76e"
      },
      "execution_count": 9,
      "outputs": [
        {
          "output_type": "execute_result",
          "data": {
            "text/plain": [
              "LogisticRegression(random_state=0)"
            ]
          },
          "metadata": {},
          "execution_count": 9
        }
      ]
    },
    {
      "cell_type": "code",
      "source": [
        "# Predicting the test set result using predict function under LogisticRegression\n",
        "y_pred = classifier.predict(X_test)\n"
      ],
      "metadata": {
        "id": "YIbTTA28yCzL"
      },
      "execution_count": 10,
      "outputs": []
    },
    {
      "cell_type": "code",
      "source": [
        "# making confusion matrix between test set of Y and predicted value.\n",
        "from sklearn.metrics import confusion_matrix\n",
        "\n",
        "cm = confusion_matrix(y_test, y_pred)\n"
      ],
      "metadata": {
        "id": "VwPYaF8HyI63"
      },
      "execution_count": 11,
      "outputs": []
    },
    {
      "cell_type": "code",
      "source": [
        "# Predicting the training set result through scatter plot\n",
        "from matplotlib.colors import ListedColormap\n",
        "\n",
        "X_set, y_set = X_train, y_train\n",
        "X1, X2 = np.meshgrid(np.arange(start = X_set[:, 0].min() - 1,\n",
        "\t\t\t\t\tstop = X_set[:, 0].max() + 1, step = 0.01),\n",
        "\t\t\t\t\tnp.arange(start = X_set[:, 1].min() - 1,\n",
        "\t\t\t\t\tstop = X_set[:, 1].max() + 1, step = 0.01))\n",
        "\n",
        "plt.contourf(X1, X2, classifier.predict(np.array([X1.ravel(),\n",
        "\t\t\tX2.ravel()]).T).reshape(X1.shape), alpha = 0.75,\n",
        "\t\t\tcmap = ListedColormap(('yellow', 'black', 'aquamarine')))\n",
        "\n",
        "plt.xlim(X1.min(), X1.max())\n",
        "plt.ylim(X2.min(), X2.max())\n",
        "\n",
        "for i, j in enumerate(np.unique(y_set)):\n",
        "\tplt.scatter(X_set[y_set == j, 0], X_set[y_set == j, 1],\n",
        "\t\t\t\tc = ListedColormap(('red', 'white', 'blue'))(i), label = j)\n",
        "\n",
        "plt.title('Logistic Regression (Training set)')\n",
        "plt.xlabel('PC1') # Xlabel\n",
        "plt.ylabel('PC2') # Ylabel\n",
        "plt.legend()      # to show legend\n",
        "\n",
        "# to show plot\n",
        "plt.show()\n"
      ],
      "metadata": {
        "colab": {
          "base_uri": "https://localhost:8080/",
          "height": 367
        },
        "id": "1KrpBFc5yN53",
        "outputId": "be559fc7-293c-422a-d48f-abe6901b5043"
      },
      "execution_count": 13,
      "outputs": [
        {
          "output_type": "stream",
          "name": "stderr",
          "text": [
            "WARNING:matplotlib.axes._axes:*c* argument looks like a single numeric RGB or RGBA sequence, which should be avoided as value-mapping will have precedence in case its length matches with *x* & *y*.  Please use the *color* keyword-argument or provide a 2-D array with a single row if you intend to specify the same RGB or RGBA value for all points.\n",
            "WARNING:matplotlib.axes._axes:*c* argument looks like a single numeric RGB or RGBA sequence, which should be avoided as value-mapping will have precedence in case its length matches with *x* & *y*.  Please use the *color* keyword-argument or provide a 2-D array with a single row if you intend to specify the same RGB or RGBA value for all points.\n",
            "WARNING:matplotlib.axes._axes:*c* argument looks like a single numeric RGB or RGBA sequence, which should be avoided as value-mapping will have precedence in case its length matches with *x* & *y*.  Please use the *color* keyword-argument or provide a 2-D array with a single row if you intend to specify the same RGB or RGBA value for all points.\n"
          ]
        },
        {
          "output_type": "display_data",
          "data": {
            "text/plain": [
              "<Figure size 432x288 with 1 Axes>"
            ],
            "image/png": "[encoded data removed]"
          },
          "metadata": {
            "needs_background": "light"
          }
        }
      ]
    },
    {
      "cell_type": "code",
      "source": [
        "# Visualising the Test set results through scatter plot\n",
        "from matplotlib.colors import ListedColormap\n",
        "\n",
        "X_set, y_set = X_test, y_test\n",
        "\n",
        "X1, X2 = np.meshgrid(np.arange(start = X_set[:, 0].min() - 1,\n",
        "\t\t\t\t\tstop = X_set[:, 0].max() + 1, step = 0.01),\n",
        "\t\t\t\t\tnp.arange(start = X_set[:, 1].min() - 1,\n",
        "\t\t\t\t\tstop = X_set[:, 1].max() + 1, step = 0.01))\n",
        "\n",
        "plt.contourf(X1, X2, classifier.predict(np.array([X1.ravel(),\n",
        "\t\t\tX2.ravel()]).T).reshape(X1.shape), alpha = 0.75,\n",
        "\t\t\tcmap = ListedColormap(('yellow', 'black', 'aquamarine')))\n",
        "\n",
        "plt.xlim(X1.min(), X1.max())\n",
        "plt.ylim(X2.min(), X2.max())\n",
        "\n",
        "for i, j in enumerate(np.unique(y_set)):\n",
        "\tplt.scatter(X_set[y_set == j, 0], X_set[y_set == j, 1],\n",
        "\t\t\t\tc = ListedColormap(('red', 'white', 'blue'))(i), label = j)\n",
        "\n",
        "\n",
        "plt.title('Logistic Regression (Test set)')\n",
        "plt.xlabel('PC1') # Xlabel\n",
        "plt.ylabel('PC2') # Ylabel\n",
        "plt.legend()\n",
        "\n",
        "# to show plot\n",
        "plt.show()\n"
      ],
      "metadata": {
        "colab": {
          "base_uri": "https://localhost:8080/",
          "height": 367
        },
        "id": "vDqbcH_wylOy",
        "outputId": "039f2476-4857-4c8d-b1ad-3fd28ff85bf2"
      },
      "execution_count": 14,
      "outputs": [
        {
          "output_type": "stream",
          "name": "stderr",
          "text": [
            "WARNING:matplotlib.axes._axes:*c* argument looks like a single numeric RGB or RGBA sequence, which should be avoided as value-mapping will have precedence in case its length matches with *x* & *y*.  Please use the *color* keyword-argument or provide a 2-D array with a single row if you intend to specify the same RGB or RGBA value for all points.\n",
            "WARNING:matplotlib.axes._axes:*c* argument looks like a single numeric RGB or RGBA sequence, which should be avoided as value-mapping will have precedence in case its length matches with *x* & *y*.  Please use the *color* keyword-argument or provide a 2-D array with a single row if you intend to specify the same RGB or RGBA value for all points.\n",
            "WARNING:matplotlib.axes._axes:*c* argument looks like a single numeric RGB or RGBA sequence, which should be avoided as value-mapping will have precedence in case its length matches with *x* & *y*.  Please use the *color* keyword-argument or provide a 2-D array with a single row if you intend to specify the same RGB or RGBA value for all points.\n"
          ]
        },
        {
          "output_type": "display_data",
          "data": {
            "text/plain": [
              "<Figure size 432x288 with 1 Axes>"
            ],
            "image/png": "[encoded data removed]"
          },
          "metadata": {
            "needs_background": "light"
          }
        }
      ]
    },
    {
      "cell_type": "code",
      "source": [],
      "metadata": {
        "id": "U5-VozmVzCMy"
      },
      "execution_count": null,
      "outputs": []
    }
  ]
}