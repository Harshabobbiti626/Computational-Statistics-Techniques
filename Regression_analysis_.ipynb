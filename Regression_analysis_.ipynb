{
  "nbformat": 4,
  "nbformat_minor": 0,
  "metadata": {
    "colab": {
      "provenance": [],
      "authorship_tag": "ABX9TyOWAGbf1tW2TTyCMiVCfLVw",
      "include_colab_link": true
    },
    "kernelspec": {
      "name": "python3",
      "display_name": "Python 3"
    },
    "language_info": {
      "name": "python"
    }
  },
  "cells": [
    {
      "cell_type": "markdown",
      "metadata": {
        "id": "view-in-github",
        "colab_type": "text"
      },
      "source": [
        "<a href=\"https://colab.research.google.com/github/Harshabobbiti626/Statistical-Modelling-Techniques/blob/main/Regression_analysis_.ipynb\" target=\"_parent\"><img src=\"https://colab.research.google.com/assets/colab-badge.svg\" alt=\"Open In Colab\"/></a>"
      ]
    },
    {
      "cell_type": "markdown",
      "source": [
        "#Regression analysis using python"
      ],
      "metadata": {
        "id": "EujXuYRKvD9m"
      }
    },
    {
      "cell_type": "markdown",
      "source": [
        "Linear regression is a statistical technique to describe relationships between dependent variables with a number of independent variables.\n",
        "Simple linear regression is a way to predict a response using just one feature. It's believed that the two variables are linearly linked,\n",
        "so we work to find a linear equation that can predict an answer value as closely as possible in relation to that feature or the independently\n",
        "derived variable.\n",
        "\n",
        "\n",
        "\n",
        "Let's consider a dataset in which we have a number of responses y per feature x:\n",
        "\n",
        "x=[10,11,12,13,14,15,16,17,18,19]\n",
        "\n",
        "y=[11,13,12,15,17,18,18,19,20,22]"
      ],
      "metadata": {
        "id": "WlZCfrnouoCl"
      }
    },
    {
      "cell_type": "code",
      "source": [
        "#importing numpy,matplotlib\n",
        "\n",
        "import numpy as nmp  \n",
        "import matplotlib.pyplot as mtplt "
      ],
      "metadata": {
        "id": "8LD0J5xErYJD"
      },
      "execution_count": 7,
      "outputs": []
    },
    {
      "cell_type": "code",
      "source": [
        "def estimate_coeff(p, q):  \n",
        "# estimating the total number of points or observation  \n",
        "    n1 = nmp.size(p)  \n",
        "# calculating the mean of a and b vector  \n",
        "    m_p = nmp.mean(p)  \n",
        "    m_q = nmp.mean(q)  \n",
        "  \n",
        "# calculating the cross deviation and deviation about a  \n",
        "    SS_pq = nmp.sum(q * p) - n1 * m_q * m_p  \n",
        "    SS_pp = nmp.sum(p * p) - n1 * m_p * m_p  \n",
        "  \n",
        "# calculating the regression coefficients  \n",
        "    b_1 = SS_pq / SS_pp  \n",
        "    b_0 = m_q - b_1 * m_p  \n",
        "  \n",
        "    return (b_0, b_1)  "
      ],
      "metadata": {
        "id": "scrdtBLgwqLp"
      },
      "execution_count": 8,
      "outputs": []
    },
    {
      "cell_type": "code",
      "source": [
        "def plot_regression_line(p, q, b):  \n",
        "# ploting the actual points or observation as scatter plot  \n",
        "    mtplt.scatter(p, q, color = \"y\",  \n",
        "            marker = \"o\", s = 30)  \n",
        "  \n",
        "# calculating the predicted response vector  \n",
        "    q_pred = b[0] + b[1] * p  \n",
        "  \n",
        "# ploting the regression line  \n",
        "    mtplt.plot(p, q_pred, color = \"b\")  \n",
        "  \n",
        "# labels assigning to plot \n",
        "    mtplt.xlabel('p')  \n",
        "    mtplt.ylabel('q')  \n",
        "  \n",
        "# defining the function to show plot  \n",
        "    mtplt.show() "
      ],
      "metadata": {
        "id": "l4omFJ8owv_p"
      },
      "execution_count": 18,
      "outputs": []
    },
    {
      "cell_type": "code",
      "source": [
        "def main():  \n",
        "# entering the observation points or data  \n",
        "    p = nmp.array([10, 11, 12, 13, 14, 15, 16, 17, 18, 19])  \n",
        "    q = nmp.array([11, 13, 12, 15, 17, 18, 18, 19, 20, 22])  \n",
        "  \n",
        "# estimating the coefficients  \n",
        "    b = estimate_coeff(p, q)  \n",
        "    print(\"Estimated coefficients are :\\nb_0 = {0:.2f} \\nb_1 = {0:.2f}\".format(b[0], b[1]))  \n",
        "  \n",
        "# ploting the regression line  \n",
        "    plot_regression_line(p, q, b)  \n",
        "  \n",
        "if __name__ == \"__main__\":  \n",
        "    main()  "
      ],
      "metadata": {
        "colab": {
          "base_uri": "https://localhost:8080/",
          "height": 331
        },
        "id": "5iq4bnKVwzvW",
        "outputId": "77b0d96e-0487-4891-a365-dded1ebf307e"
      },
      "execution_count": 19,
      "outputs": [
        {
          "output_type": "stream",
          "name": "stdout",
          "text": [
            "Estimated coefficients are :\n",
            "b_0 = -0.46 \n",
            "b_1 = -0.46\n"
          ]
        },
        {
          "output_type": "display_data",
          "data": {
            "text/plain": [
              "<Figure size 432x288 with 1 Axes>"
            ],
            "image/png": "[encoded data removed]"
          },
          "metadata": {
            "needs_background": "light"
          }
        }
      ]
    },
    {
      "cell_type": "code",
      "source": [],
      "metadata": {
        "id": "iVAXMBy8w15b"
      },
      "execution_count": null,
      "outputs": []
    }
  ]
}