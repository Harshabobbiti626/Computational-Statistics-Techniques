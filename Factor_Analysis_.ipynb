{
  "nbformat": 4,
  "nbformat_minor": 0,
  "metadata": {
    "colab": {
      "provenance": [],
      "mount_file_id": "1MRIU7mczB8ZvPORQ40LlWbL0V4kdrhgH",
      "authorship_tag": "ABX9TyMEu+qMYBwlJiW0RHHp0LQV",
      "include_colab_link": true
    },
    "kernelspec": {
      "name": "python3",
      "display_name": "Python 3"
    },
    "language_info": {
      "name": "python"
    }
  },
  "cells": [
    {
      "cell_type": "markdown",
      "metadata": {
        "id": "view-in-github",
        "colab_type": "text"
      },
      "source": [
        "<a href=\"https://colab.research.google.com/github/Harshabobbiti626/Computational-Statistics-Techniques/blob/main/Factor_Analysis_.ipynb\" target=\"_parent\"><img src=\"https://colab.research.google.com/assets/colab-badge.svg\" alt=\"Open In Colab\"/></a>"
      ]
    },
    {
      "cell_type": "markdown",
      "source": [
        "#Factor Analysis#"
      ],
      "metadata": {
        "id": "sxl0HvvK1ylr"
      }
    },
    {
      "cell_type": "markdown",
      "source": [
        "Factor analysis is a way of reducing the number of different features (variables) that are measured in a data set. It does this by identifying patterns in the data that are common between different items.\n",
        "\n",
        "**There are two types of factor analysis :**\n",
        "\n",
        "-> Exploratory Factor Analysis :\n",
        "   The statistic is used to look at how many different things there\n",
        "   are among a set of things. It doesn't tell you how many different\n",
        "   things there are, only how many different things there are among a\n",
        "   certain group of things.\n",
        "\n",
        "-> Confirmatory Factor Analysis :\n",
        "   CFA is a method used to test the accuracy of a proposed model by\n",
        "   examining how well it fits existing data. If the model is correct, the\n",
        "   data should match up well.\n",
        "\n",
        "**Application of Factor Analysis :**\n",
        "\n",
        "To reduce the number of variables used to analyze data\n",
        "\n",
        "To detect the structure of the relationship between the variables."
      ],
      "metadata": {
        "id": "_Ih01C081wWs"
      }
    },
    {
      "cell_type": "code",
      "source": [
        "# importing library\n",
        "import pandas as pd\n",
        "from sklearn.decomposition import FactorAnalysis\n",
        "import matplotlib.pyplot as plt\n",
        "import numpy as np"
      ],
      "metadata": {
        "id": "AOulgVhH3ZJL"
      },
      "execution_count": 5,
      "outputs": []
    },
    {
      "cell_type": "code",
      "source": [
        "# data preparation\n",
        "df = pd.read_csv('/content/drive/MyDrive/Colab Notebooks/Computational Statistics datasets/bioChemists.csv')\n",
        "df = df.iloc[1:15]\n",
        "X = df[['art', 'kid5', 'phd', 'ment']]\n",
        "df"
      ],
      "metadata": {
        "colab": {
          "base_uri": "https://localhost:8080/",
          "height": 457
        },
        "id": "YUsV2vtN520P",
        "outputId": "93f8f599-1d5c-41ff-9575-9ed35a2cd8da"
      },
      "execution_count": 6,
      "outputs": [
        {
          "output_type": "execute_result",
          "data": {
            "text/plain": [
              "    index  art    fem      mar  kid5    phd  ment\n",
              "1       3    0  Women   Single     0  3.750     6\n",
              "2       4    0    Men  Married     1  1.180     3\n",
              "3       5    0  Women   Single     0  3.750    26\n",
              "4       6    0  Women  Married     2  3.590     2\n",
              "5       7    0  Women   Single     0  3.190     3\n",
              "6       8    0    Men  Married     2  2.960     4\n",
              "7       9    0    Men   Single     0  4.620     6\n",
              "8      10    0  Women  Married     0  1.250     0\n",
              "9      11    0    Men   Single     0  2.960    14\n",
              "10     12    0  Women   Single     0  0.755    13\n",
              "11     13    0  Women  Married     1  3.690     3\n",
              "12     14    0  Women  Married     0  3.400     4\n",
              "13     15    0  Women  Married     0  1.790     0"
            ],
            "text/html": [
              "\n",
              "  <div id=\"df-1247eb3c-909d-4786-a360-58c018a42874\">\n",
              "    <div class=\"colab-df-container\">\n",
              "      <div>\n",
              "<style scoped>\n",
              "    .dataframe tbody tr th:only-of-type {\n",
              "        vertical-align: middle;\n",
              "    }\n",
              "\n",
              "    .dataframe tbody tr th {\n",
              "        vertical-align: top;\n",
              "    }\n",
              "\n",
              "    .dataframe thead th {\n",
              "        text-align: right;\n",
              "    }\n",
              "</style>\n",
              "<table border=\"1\" class=\"dataframe\">\n",
              "  <thead>\n",
              "    <tr style=\"text-align: right;\">\n",
              "      <th></th>\n",
              "      <th>index</th>\n",
              "      <th>art</th>\n",
              "      <th>fem</th>\n",
              "      <th>mar</th>\n",
              "      <th>kid5</th>\n",
              "      <th>phd</th>\n",
              "      <th>ment</th>\n",
              "    </tr>\n",
              "  </thead>\n",
              "  <tbody>\n",
              "    <tr>\n",
              "      <th>1</th>\n",
              "      <td>3</td>\n",
              "      <td>0</td>\n",
              "      <td>Women</td>\n",
              "      <td>Single</td>\n",
              "      <td>0</td>\n",
              "      <td>3.750</td>\n",
              "      <td>6</td>\n",
              "    </tr>\n",
              "    <tr>\n",
              "      <th>2</th>\n",
              "      <td>4</td>\n",
              "      <td>0</td>\n",
              "      <td>Men</td>\n",
              "      <td>Married</td>\n",
              "      <td>1</td>\n",
              "      <td>1.180</td>\n",
              "      <td>3</td>\n",
              "    </tr>\n",
              "    <tr>\n",
              "      <th>3</th>\n",
              "      <td>5</td>\n",
              "      <td>0</td>\n",
              "      <td>Women</td>\n",
              "      <td>Single</td>\n",
              "      <td>0</td>\n",
              "      <td>3.750</td>\n",
              "      <td>26</td>\n",
              "    </tr>\n",
              "    <tr>\n",
              "      <th>4</th>\n",
              "      <td>6</td>\n",
              "      <td>0</td>\n",
              "      <td>Women</td>\n",
              "      <td>Married</td>\n",
              "      <td>2</td>\n",
              "      <td>3.590</td>\n",
              "      <td>2</td>\n",
              "    </tr>\n",
              "    <tr>\n",
              "      <th>5</th>\n",
              "      <td>7</td>\n",
              "      <td>0</td>\n",
              "      <td>Women</td>\n",
              "      <td>Single</td>\n",
              "      <td>0</td>\n",
              "      <td>3.190</td>\n",
              "      <td>3</td>\n",
              "    </tr>\n",
              "    <tr>\n",
              "      <th>6</th>\n",
              "      <td>8</td>\n",
              "      <td>0</td>\n",
              "      <td>Men</td>\n",
              "      <td>Married</td>\n",
              "      <td>2</td>\n",
              "      <td>2.960</td>\n",
              "      <td>4</td>\n",
              "    </tr>\n",
              "    <tr>\n",
              "      <th>7</th>\n",
              "      <td>9</td>\n",
              "      <td>0</td>\n",
              "      <td>Men</td>\n",
              "      <td>Single</td>\n",
              "      <td>0</td>\n",
              "      <td>4.620</td>\n",
              "      <td>6</td>\n",
              "    </tr>\n",
              "    <tr>\n",
              "      <th>8</th>\n",
              "      <td>10</td>\n",
              "      <td>0</td>\n",
              "      <td>Women</td>\n",
              "      <td>Married</td>\n",
              "      <td>0</td>\n",
              "      <td>1.250</td>\n",
              "      <td>0</td>\n",
              "    </tr>\n",
              "    <tr>\n",
              "      <th>9</th>\n",
              "      <td>11</td>\n",
              "      <td>0</td>\n",
              "      <td>Men</td>\n",
              "      <td>Single</td>\n",
              "      <td>0</td>\n",
              "      <td>2.960</td>\n",
              "      <td>14</td>\n",
              "    </tr>\n",
              "    <tr>\n",
              "      <th>10</th>\n",
              "      <td>12</td>\n",
              "      <td>0</td>\n",
              "      <td>Women</td>\n",
              "      <td>Single</td>\n",
              "      <td>0</td>\n",
              "      <td>0.755</td>\n",
              "      <td>13</td>\n",
              "    </tr>\n",
              "    <tr>\n",
              "      <th>11</th>\n",
              "      <td>13</td>\n",
              "      <td>0</td>\n",
              "      <td>Women</td>\n",
              "      <td>Married</td>\n",
              "      <td>1</td>\n",
              "      <td>3.690</td>\n",
              "      <td>3</td>\n",
              "    </tr>\n",
              "    <tr>\n",
              "      <th>12</th>\n",
              "      <td>14</td>\n",
              "      <td>0</td>\n",
              "      <td>Women</td>\n",
              "      <td>Married</td>\n",
              "      <td>0</td>\n",
              "      <td>3.400</td>\n",
              "      <td>4</td>\n",
              "    </tr>\n",
              "    <tr>\n",
              "      <th>13</th>\n",
              "      <td>15</td>\n",
              "      <td>0</td>\n",
              "      <td>Women</td>\n",
              "      <td>Married</td>\n",
              "      <td>0</td>\n",
              "      <td>1.790</td>\n",
              "      <td>0</td>\n",
              "    </tr>\n",
              "  </tbody>\n",
              "</table>\n",
              "</div>\n",
              "      <button class=\"colab-df-convert\" onclick=\"convertToInteractive('df-1247eb3c-909d-4786-a360-58c018a42874')\"\n",
              "              title=\"Convert this dataframe to an interactive table.\"\n",
              "              style=\"display:none;\">\n",
              "        \n",
              "  <svg xmlns=\"http://www.w3.org/2000/svg\" height=\"24px\"viewBox=\"0 0 24 24\"\n",
              "       width=\"24px\">\n",
              "    <path d=\"M0 0h24v24H0V0z\" fill=\"none\"/>\n",
              "    <path d=\"M18.56 5.44l.94 2.06.94-2.06 2.06-.94-2.06-.94-.94-2.06-.94 2.06-2.06.94zm-11 1L8.5 8.5l.94-2.06 2.06-.94-2.06-.94L8.5 2.5l-.94 2.06-2.06.94zm10 10l.94 2.06.94-2.06 2.06-.94-2.06-.94-.94-2.06-.94 2.06-2.06.94z\"/><path d=\"M17.41 7.96l-1.37-1.37c-.4-.4-.92-.59-1.43-.59-.52 0-1.04.2-1.43.59L10.3 9.45l-7.72 7.72c-.78.78-.78 2.05 0 2.83L4 21.41c.39.39.9.59 1.41.59.51 0 1.02-.2 1.41-.59l7.78-7.78 2.81-2.81c.8-.78.8-2.07 0-2.86zM5.41 20L4 18.59l7.72-7.72 1.47 1.35L5.41 20z\"/>\n",
              "  </svg>\n",
              "      </button>\n",
              "      \n",
              "  <style>\n",
              "    .colab-df-container {\n",
              "      display:flex;\n",
              "      flex-wrap:wrap;\n",
              "      gap: 12px;\n",
              "    }\n",
              "\n",
              "    .colab-df-convert {\n",
              "      background-color: #E8F0FE;\n",
              "      border: none;\n",
              "      border-radius: 50%;\n",
              "      cursor: pointer;\n",
              "      display: none;\n",
              "      fill: #1967D2;\n",
              "      height: 32px;\n",
              "      padding: 0 0 0 0;\n",
              "      width: 32px;\n",
              "    }\n",
              "\n",
              "    .colab-df-convert:hover {\n",
              "      background-color: #E2EBFA;\n",
              "      box-shadow: 0px 1px 2px rgba(60, 64, 67, 0.3), 0px 1px 3px 1px rgba(60, 64, 67, 0.15);\n",
              "      fill: #174EA6;\n",
              "    }\n",
              "\n",
              "    [theme=dark] .colab-df-convert {\n",
              "      background-color: #3B4455;\n",
              "      fill: #D2E3FC;\n",
              "    }\n",
              "\n",
              "    [theme=dark] .colab-df-convert:hover {\n",
              "      background-color: #434B5C;\n",
              "      box-shadow: 0px 1px 3px 1px rgba(0, 0, 0, 0.15);\n",
              "      filter: drop-shadow(0px 1px 2px rgba(0, 0, 0, 0.3));\n",
              "      fill: #FFFFFF;\n",
              "    }\n",
              "  </style>\n",
              "\n",
              "      <script>\n",
              "        const buttonEl =\n",
              "          document.querySelector('#df-1247eb3c-909d-4786-a360-58c018a42874 button.colab-df-convert');\n",
              "        buttonEl.style.display =\n",
              "          google.colab.kernel.accessAllowed ? 'block' : 'none';\n",
              "\n",
              "        async function convertToInteractive(key) {\n",
              "          const element = document.querySelector('#df-1247eb3c-909d-4786-a360-58c018a42874');\n",
              "          const dataTable =\n",
              "            await google.colab.kernel.invokeFunction('convertToInteractive',\n",
              "                                                     [key], {});\n",
              "          if (!dataTable) return;\n",
              "\n",
              "          const docLinkHtml = 'Like what you see? Visit the ' +\n",
              "            '<a target=\"_blank\" href=https://colab.research.google.com/notebooks/data_table.ipynb>data table notebook</a>'\n",
              "            + ' to learn more about interactive tables.';\n",
              "          element.innerHTML = '';\n",
              "          dataTable['output_type'] = 'display_data';\n",
              "          await google.colab.output.renderOutput(dataTable, element);\n",
              "          const docLink = document.createElement('div');\n",
              "          docLink.innerHTML = docLinkHtml;\n",
              "          element.appendChild(docLink);\n",
              "        }\n",
              "      </script>\n",
              "    </div>\n",
              "  </div>\n",
              "  "
            ]
          },
          "metadata": {},
          "execution_count": 6
        }
      ]
    },
    {
      "cell_type": "code",
      "source": [
        "# model development\n",
        "fact_2c = FactorAnalysis(n_components = 2)\n",
        "X_factor = fact_2c.fit_transform(X)\n",
        "X_factor"
      ],
      "metadata": {
        "colab": {
          "base_uri": "https://localhost:8080/"
        },
        "id": "TKBnJ8Ic7Kyl",
        "outputId": "60314f81-bc9f-42fe-c272-993b4a6aeea7"
      },
      "execution_count": 7,
      "outputs": [
        {
          "output_type": "execute_result",
          "data": {
            "text/plain": [
              "array([[-0.05681189, -0.23031624],\n",
              "       [-0.50156602,  0.50679999],\n",
              "       [ 2.77034375, -0.208471  ],\n",
              "       [-0.64330276, -0.79184754],\n",
              "       [-0.48316817, -0.00442617],\n",
              "       [-0.3631555 , -0.53185034],\n",
              "       [-0.05326518, -0.5863433 ],\n",
              "       [-0.91515026,  0.78619659],\n",
              "       [ 1.0708298 ,  0.10171082],\n",
              "       [ 0.92048295,  1.00296315],\n",
              "       [-0.49133357, -0.52035872],\n",
              "       [-0.34095429, -0.08927151],\n",
              "       [-0.91294886,  0.56521427]])"
            ]
          },
          "metadata": {},
          "execution_count": 7
        }
      ]
    },
    {
      "cell_type": "code",
      "source": [
        "# visualization\n",
        "thisdict = {\"Single\" : \"0\" , \"Married\" : \"1\"}\n",
        "thisdict\n",
        " \n",
        "z = np.array(df.mar.map(thisdict), dtype = int)\n",
        "colors = np.array([\"blue\", \"purple\"])\n",
        "z"
      ],
      "metadata": {
        "colab": {
          "base_uri": "https://localhost:8080/"
        },
        "id": "szVOxSgp7RyB",
        "outputId": "5d2971f1-ff60-4399-c873-68bc457ac96d"
      },
      "execution_count": 8,
      "outputs": [
        {
          "output_type": "execute_result",
          "data": {
            "text/plain": [
              "array([0, 1, 0, 1, 0, 1, 0, 1, 0, 0, 1, 1, 1])"
            ]
          },
          "metadata": {},
          "execution_count": 8
        }
      ]
    },
    {
      "cell_type": "code",
      "source": [
        "# show scatter plot\n",
        "plt.scatter(X_factor[:,0], X_factor[:,1], c = colors[z])"
      ],
      "metadata": {
        "colab": {
          "base_uri": "https://localhost:8080/",
          "height": 282
        },
        "id": "8bX9q68-7Wc1",
        "outputId": "79d95a1d-715c-4285-b945-d954f6e688d3"
      },
      "execution_count": 9,
      "outputs": [
        {
          "output_type": "execute_result",
          "data": {
            "text/plain": [
              "<matplotlib.collections.PathCollection at 0x7f40fd4ed970>"
            ]
          },
          "metadata": {},
          "execution_count": 9
        },
        {
          "output_type": "display_data",
          "data": {
            "text/plain": [
              "<Figure size 432x288 with 1 Axes>"
            ],
            "image/png": "[encoded data removed]"
          },
          "metadata": {
            "needs_background": "light"
          }
        }
      ]
    }
  ]
}